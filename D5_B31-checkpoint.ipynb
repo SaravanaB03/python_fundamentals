{
 "cells": [
  {
   "cell_type": "code",
   "execution_count": 1,
   "metadata": {},
   "outputs": [
    {
     "ename": "SyntaxError",
     "evalue": "Missing parentheses in call to 'print'. Did you mean print(friends)? (<ipython-input-1-9ca9289a1f75>, line 2)",
     "output_type": "error",
     "traceback": [
      "\u001b[1;36m  File \u001b[1;32m\"<ipython-input-1-9ca9289a1f75>\"\u001b[1;36m, line \u001b[1;32m2\u001b[0m\n\u001b[1;33m    print friends\u001b[0m\n\u001b[1;37m          ^\u001b[0m\n\u001b[1;31mSyntaxError\u001b[0m\u001b[1;31m:\u001b[0m Missing parentheses in call to 'print'. Did you mean print(friends)?\n"
     ]
    }
   ],
   "source": [
    "friends = ['saravana','rajaram','aravindh gupta','shakthi','akash']\n",
    "print friends"
   ]
  },
  {
   "cell_type": "code",
   "execution_count": 2,
   "metadata": {},
   "outputs": [
    {
     "name": "stdout",
     "output_type": "stream",
     "text": [
      "['saravana', 'rajaram', 'aravindh gupta', 'shakthi', 'akash']\n"
     ]
    }
   ],
   "source": [
    "friends = ['saravana','rajaram','aravindh gupta','shakthi','akash']\n",
    "print(friends)"
   ]
  },
  {
   "cell_type": "code",
   "execution_count": 4,
   "metadata": {},
   "outputs": [
    {
     "name": "stdout",
     "output_type": "stream",
     "text": [
      "Saravana Rajaram Aravindh Gupta Shakthi Akash "
     ]
    }
   ],
   "source": [
    "for i in friends:\n",
    "    print(i.title(),end = ' ')"
   ]
  },
  {
   "cell_type": "code",
   "execution_count": 5,
   "metadata": {},
   "outputs": [
    {
     "name": "stdout",
     "output_type": "stream",
     "text": [
      "Saravana,Rajaram,Aravindh Gupta,Shakthi,Akash,"
     ]
    }
   ],
   "source": [
    "for i in friends:\n",
    "    print(i.title(),end = ',')"
   ]
  },
  {
   "cell_type": "code",
   "execution_count": 6,
   "metadata": {},
   "outputs": [],
   "source": [
    "friends.append('aswanth')"
   ]
  },
  {
   "cell_type": "code",
   "execution_count": 7,
   "metadata": {},
   "outputs": [
    {
     "name": "stdout",
     "output_type": "stream",
     "text": [
      "['saravana', 'rajaram', 'aravindh gupta', 'shakthi', 'akash', 'aswanth']\n"
     ]
    }
   ],
   "source": [
    "print(friends)"
   ]
  },
  {
   "cell_type": "code",
   "execution_count": null,
   "metadata": {},
   "outputs": [],
   "source": [
    "To insert:"
   ]
  },
  {
   "cell_type": "code",
   "execution_count": 8,
   "metadata": {},
   "outputs": [
    {
     "name": "stdout",
     "output_type": "stream",
     "text": [
      "['saravana', 'rama', 'rajaram', 'aravindh gupta', 'shakthi', 'akash', 'aswanth']\n"
     ]
    }
   ],
   "source": [
    "friends.insert(1,'rama')\n",
    "print(friends)"
   ]
  },
  {
   "cell_type": "code",
   "execution_count": null,
   "metadata": {},
   "outputs": [],
   "source": [
    "To replace:\n",
    "    "
   ]
  },
  {
   "cell_type": "code",
   "execution_count": 9,
   "metadata": {},
   "outputs": [
    {
     "name": "stdout",
     "output_type": "stream",
     "text": [
      "['saravana', 'rama', 'rajaram', 'balaji', 'shakthi', 'akash', 'aswanth']\n"
     ]
    }
   ],
   "source": [
    "friends[3] = 'balaji'\n",
    "print(friends)"
   ]
  },
  {
   "cell_type": "code",
   "execution_count": null,
   "metadata": {},
   "outputs": [],
   "source": [
    "To delete:"
   ]
  },
  {
   "cell_type": "code",
   "execution_count": 10,
   "metadata": {},
   "outputs": [
    {
     "name": "stdout",
     "output_type": "stream",
     "text": [
      "['rama', 'rajaram', 'balaji', 'shakthi', 'akash', 'aswanth']\n"
     ]
    }
   ],
   "source": [
    "del friends[0]\n",
    "print(friends)"
   ]
  },
  {
   "cell_type": "code",
   "execution_count": null,
   "metadata": {},
   "outputs": [],
   "source": []
  }
 ],
 "metadata": {
  "kernelspec": {
   "display_name": "Python 3",
   "language": "python",
   "name": "python3"
  },
  "language_info": {
   "codemirror_mode": {
    "name": "ipython",
    "version": 3
   },
   "file_extension": ".py",
   "mimetype": "text/x-python",
   "name": "python",
   "nbconvert_exporter": "python",
   "pygments_lexer": "ipython3",
   "version": "3.8.5"
  }
 },
 "nbformat": 4,
 "nbformat_minor": 4
}
