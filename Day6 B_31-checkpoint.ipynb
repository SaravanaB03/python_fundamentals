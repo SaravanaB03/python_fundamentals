{
 "cells": [
  {
   "cell_type": "code",
   "execution_count": null,
   "metadata": {},
   "outputs": [],
   "source": [
    "looping statement\n"
   ]
  },
  {
   "cell_type": "code",
   "execution_count": 1,
   "metadata": {},
   "outputs": [
    {
     "name": "stdout",
     "output_type": "stream",
     "text": [
      "['karthick', 'saro', 'praveen', 'balaji', 'pavithran', 'pradeep']\n"
     ]
    }
   ],
   "source": [
    "friends = ['karthick','saro','praveen','balaji','pavithran','pradeep']\n",
    "print(friends)"
   ]
  },
  {
   "cell_type": "code",
   "execution_count": 2,
   "metadata": {},
   "outputs": [
    {
     "ename": "NameError",
     "evalue": "name 'frineds' is not defined",
     "output_type": "error",
     "traceback": [
      "\u001b[1;31m---------------------------------------------------------------------------\u001b[0m",
      "\u001b[1;31mNameError\u001b[0m                                 Traceback (most recent call last)",
      "\u001b[1;32m<ipython-input-2-833cbe6ae996>\u001b[0m in \u001b[0;36m<module>\u001b[1;34m\u001b[0m\n\u001b[1;32m----> 1\u001b[1;33m \u001b[0mtype\u001b[0m\u001b[1;33m(\u001b[0m\u001b[0mfrineds\u001b[0m\u001b[1;33m)\u001b[0m\u001b[1;33m\u001b[0m\u001b[1;33m\u001b[0m\u001b[0m\n\u001b[0m",
      "\u001b[1;31mNameError\u001b[0m: name 'frineds' is not defined"
     ]
    }
   ],
   "source": [
    "type(frineds)"
   ]
  },
  {
   "cell_type": "code",
   "execution_count": 3,
   "metadata": {},
   "outputs": [
    {
     "data": {
      "text/plain": [
       "list"
      ]
     },
     "execution_count": 3,
     "metadata": {},
     "output_type": "execute_result"
    }
   ],
   "source": [
    "type(friends)"
   ]
  },
  {
   "cell_type": "code",
   "execution_count": 4,
   "metadata": {},
   "outputs": [
    {
     "ename": "NameError",
     "evalue": "name 'prntf' is not defined",
     "output_type": "error",
     "traceback": [
      "\u001b[1;31m---------------------------------------------------------------------------\u001b[0m",
      "\u001b[1;31mNameError\u001b[0m                                 Traceback (most recent call last)",
      "\u001b[1;32m<ipython-input-4-1c6d2b0cc8fc>\u001b[0m in \u001b[0;36m<module>\u001b[1;34m\u001b[0m\n\u001b[1;32m----> 1\u001b[1;33m \u001b[0mprntf\u001b[0m\u001b[1;33m(\u001b[0m\u001b[1;34mf\"keep up the good work,{students[1].title()}\"\u001b[0m\u001b[1;33m)\u001b[0m\u001b[1;33m\u001b[0m\u001b[1;33m\u001b[0m\u001b[0m\n\u001b[0m",
      "\u001b[1;31mNameError\u001b[0m: name 'prntf' is not defined"
     ]
    }
   ],
   "source": [
    "prntf(f\"keep up the good work,{students[1].title()}\")"
   ]
  },
  {
   "cell_type": "code",
   "execution_count": 5,
   "metadata": {},
   "outputs": [
    {
     "ename": "NameError",
     "evalue": "name 'printf' is not defined",
     "output_type": "error",
     "traceback": [
      "\u001b[1;31m---------------------------------------------------------------------------\u001b[0m",
      "\u001b[1;31mNameError\u001b[0m                                 Traceback (most recent call last)",
      "\u001b[1;32m<ipython-input-5-c0db4e5e8877>\u001b[0m in \u001b[0;36m<module>\u001b[1;34m\u001b[0m\n\u001b[1;32m----> 1\u001b[1;33m \u001b[0mprintf\u001b[0m\u001b[1;33m(\u001b[0m\u001b[1;34mf\"keep up the good work,{students[1].title()}\"\u001b[0m\u001b[1;33m)\u001b[0m\u001b[1;33m\u001b[0m\u001b[1;33m\u001b[0m\u001b[0m\n\u001b[0m",
      "\u001b[1;31mNameError\u001b[0m: name 'printf' is not defined"
     ]
    }
   ],
   "source": [
    "printf(f\"keep up the good work,{students[1].title()}\")"
   ]
  },
  {
   "cell_type": "code",
   "execution_count": 6,
   "metadata": {},
   "outputs": [
    {
     "ename": "NameError",
     "evalue": "name 'printf' is not defined",
     "output_type": "error",
     "traceback": [
      "\u001b[1;31m---------------------------------------------------------------------------\u001b[0m",
      "\u001b[1;31mNameError\u001b[0m                                 Traceback (most recent call last)",
      "\u001b[1;32m<ipython-input-6-b942a9bda1bc>\u001b[0m in \u001b[0;36m<module>\u001b[1;34m\u001b[0m\n\u001b[1;32m----> 1\u001b[1;33m \u001b[0mprintf\u001b[0m\u001b[1;33m(\u001b[0m\u001b[1;34mf\"keep up the good work,{friends[1].title()}\"\u001b[0m\u001b[1;33m)\u001b[0m\u001b[1;33m\u001b[0m\u001b[1;33m\u001b[0m\u001b[0m\n\u001b[0m",
      "\u001b[1;31mNameError\u001b[0m: name 'printf' is not defined"
     ]
    }
   ],
   "source": [
    "printf(f\"keep up the good work,{friends[1].title()}\")"
   ]
  },
  {
   "cell_type": "code",
   "execution_count": 7,
   "metadata": {},
   "outputs": [
    {
     "ename": "SyntaxError",
     "evalue": "invalid syntax (<ipython-input-7-2fc97b308907>, line 1)",
     "output_type": "error",
     "traceback": [
      "\u001b[1;36m  File \u001b[1;32m\"<ipython-input-7-2fc97b308907>\"\u001b[1;36m, line \u001b[1;32m1\u001b[0m\n\u001b[1;33m    printf(f \"keep up the good work,{students[1].title()}\")\u001b[0m\n\u001b[1;37m             ^\u001b[0m\n\u001b[1;31mSyntaxError\u001b[0m\u001b[1;31m:\u001b[0m invalid syntax\n"
     ]
    }
   ],
   "source": [
    "printf(f \"keep up the good work,{students[1].title()}\")"
   ]
  },
  {
   "cell_type": "code",
   "execution_count": 8,
   "metadata": {},
   "outputs": [
    {
     "ename": "NameError",
     "evalue": "name 'printf' is not defined",
     "output_type": "error",
     "traceback": [
      "\u001b[1;31m---------------------------------------------------------------------------\u001b[0m",
      "\u001b[1;31mNameError\u001b[0m                                 Traceback (most recent call last)",
      "\u001b[1;32m<ipython-input-8-b942a9bda1bc>\u001b[0m in \u001b[0;36m<module>\u001b[1;34m\u001b[0m\n\u001b[1;32m----> 1\u001b[1;33m \u001b[0mprintf\u001b[0m\u001b[1;33m(\u001b[0m\u001b[1;34mf\"keep up the good work,{friends[1].title()}\"\u001b[0m\u001b[1;33m)\u001b[0m\u001b[1;33m\u001b[0m\u001b[1;33m\u001b[0m\u001b[0m\n\u001b[0m",
      "\u001b[1;31mNameError\u001b[0m: name 'printf' is not defined"
     ]
    }
   ],
   "source": [
    "printf(f\"keep up the good work,{friends[1].title()}\")"
   ]
  },
  {
   "cell_type": "code",
   "execution_count": 9,
   "metadata": {},
   "outputs": [
    {
     "ename": "NameError",
     "evalue": "name 'frineds' is not defined",
     "output_type": "error",
     "traceback": [
      "\u001b[1;31m---------------------------------------------------------------------------\u001b[0m",
      "\u001b[1;31mNameError\u001b[0m                                 Traceback (most recent call last)",
      "\u001b[1;32m<ipython-input-9-b6d271d02bd6>\u001b[0m in \u001b[0;36m<module>\u001b[1;34m\u001b[0m\n\u001b[1;32m----> 1\u001b[1;33m \u001b[0mprint\u001b[0m\u001b[1;33m(\u001b[0m\u001b[1;34mf\"keep up the good work,{frineds[1].title()}\"\u001b[0m\u001b[1;33m)\u001b[0m\u001b[1;33m\u001b[0m\u001b[1;33m\u001b[0m\u001b[0m\n\u001b[0m",
      "\u001b[1;31mNameError\u001b[0m: name 'frineds' is not defined"
     ]
    }
   ],
   "source": [
    "print(f\"keep up the good work,{frineds[1].title()}\")"
   ]
  },
  {
   "cell_type": "code",
   "execution_count": 10,
   "metadata": {},
   "outputs": [
    {
     "name": "stdout",
     "output_type": "stream",
     "text": [
      "keep up the good work,Saro\n"
     ]
    }
   ],
   "source": [
    "print(f\"keep up the good work,{friends[1].title()}\")"
   ]
  },
  {
   "cell_type": "code",
   "execution_count": 11,
   "metadata": {},
   "outputs": [
    {
     "name": "stdout",
     "output_type": "stream",
     "text": [
      "Keep Up The Good Work,Saro\n"
     ]
    }
   ],
   "source": [
    "a = f\"keep up the good work,{friends[1].title()}\"\n",
    "\n",
    "print(a.title())"
   ]
  },
  {
   "cell_type": "code",
   "execution_count": null,
   "metadata": {},
   "outputs": [],
   "source": [
    "General syntax of for loop:"
   ]
  },
  {
   "cell_type": "code",
   "execution_count": null,
   "metadata": {},
   "outputs": [],
   "source": [
    "for tempvariable in mainvariable:\n",
    "    print(tempvariable)"
   ]
  },
  {
   "cell_type": "code",
   "execution_count": 12,
   "metadata": {},
   "outputs": [
    {
     "name": "stdout",
     "output_type": "stream",
     "text": [
      "karthick\n",
      "saro\n",
      "praveen\n",
      "balaji\n",
      "pavithran\n",
      "pradeep\n"
     ]
    }
   ],
   "source": [
    "for i in friends:\n",
    "    print(i)"
   ]
  },
  {
   "cell_type": "code",
   "execution_count": 13,
   "metadata": {},
   "outputs": [
    {
     "name": "stdout",
     "output_type": "stream",
     "text": [
      "Keep up the good work,Karthick\n",
      "Keep up the good work,Saro\n",
      "Keep up the good work,Praveen\n",
      "Keep up the good work,Balaji\n",
      "Keep up the good work,Pavithran\n",
      "Keep up the good work,Pradeep\n"
     ]
    }
   ],
   "source": [
    "for i in friends:\n",
    "    print(f\"Keep up the good work,{i.title()}\")"
   ]
  },
  {
   "cell_type": "code",
   "execution_count": 14,
   "metadata": {},
   "outputs": [
    {
     "name": "stdout",
     "output_type": "stream",
     "text": [
      "karthick\n",
      "saro\n",
      "praveen\n",
      "balaji\n",
      "pavithran\n",
      "pradeep\n"
     ]
    }
   ],
   "source": [
    "for a in friends:\n",
    "    print(a)"
   ]
  },
  {
   "cell_type": "code",
   "execution_count": 15,
   "metadata": {},
   "outputs": [
    {
     "name": "stdout",
     "output_type": "stream",
     "text": [
      "Hi guys,Karthick.\n",
      "\n",
      "Hi guys,Saro.\n",
      "\n",
      "Hi guys,Praveen.\n",
      "\n",
      "Hi guys,Balaji.\n",
      "\n",
      "Hi guys,Pavithran.\n",
      "\n",
      "Hi guys,Pradeep.\n",
      "\n"
     ]
    }
   ],
   "source": [
    "for a in friends:\n",
    "    \n",
    "    print(f\"Hi guys,{a.title()}.\\n\")"
   ]
  },
  {
   "cell_type": "code",
   "execution_count": 16,
   "metadata": {},
   "outputs": [
    {
     "name": "stdout",
     "output_type": "stream",
     "text": [
      "Hi buddy,Karthick.\n",
      "\n",
      "Hi buddy,Saro.\n",
      "\n",
      "Hi buddy,Praveen.\n",
      "\n",
      "Hi buddy,Balaji.\n",
      "\n",
      "Hi buddy,Pavithran.\n",
      "\n",
      "Hi buddy,Pradeep.\n",
      "\n"
     ]
    }
   ],
   "source": [
    "  for a in friends:\n",
    "    \n",
    "    print(f\"Hi buddy,{a.title()}.\\n\")  \n",
    "    \n",
    "    \n",
    "    \n"
   ]
  },
  {
   "cell_type": "code",
   "execution_count": 17,
   "metadata": {},
   "outputs": [
    {
     "name": "stdout",
     "output_type": "stream",
     "text": [
      "Hi buddy,Karthick.\n",
      "\n",
      "Hi buddy,Saro.\n",
      "\n",
      "Hi buddy,Praveen.\n",
      "\n",
      "Hi buddy,Balaji.\n",
      "\n",
      "Hi buddy,Pavithran.\n",
      "\n",
      "Hi buddy,Pradeep.\n",
      "\n",
      "Thanks for coming guys\n"
     ]
    }
   ],
   "source": [
    "  for a in friends:\n",
    "    print(f\"Hi buddy,{a.title()}.\\n\")\n",
    "print(\"Thanks for coming guys\")"
   ]
  },
  {
   "cell_type": "code",
   "execution_count": 18,
   "metadata": {},
   "outputs": [
    {
     "name": "stdout",
     "output_type": "stream",
     "text": [
      "Hi buddy,Karthick.\n",
      "\n",
      "I'm looking too plan one trip,Karthick.\n",
      "\n",
      "Hi buddy,Saro.\n",
      "\n",
      "I'm looking too plan one trip,Saro.\n",
      "\n",
      "Hi buddy,Praveen.\n",
      "\n",
      "I'm looking too plan one trip,Praveen.\n",
      "\n",
      "Hi buddy,Balaji.\n",
      "\n",
      "I'm looking too plan one trip,Balaji.\n",
      "\n",
      "Hi buddy,Pavithran.\n",
      "\n",
      "I'm looking too plan one trip,Pavithran.\n",
      "\n",
      "Hi buddy,Pradeep.\n",
      "\n",
      "I'm looking too plan one trip,Pradeep.\n",
      "\n",
      "Thanks for coming guys\n"
     ]
    }
   ],
   "source": [
    "  for a in friends:\n",
    "    print(f\"Hi buddy,{a.title()}.\\n\")\n",
    "    print(f\"I'm looking too plan one trip,{a.title()}.\\n\")\n",
    "print(\"Thanks for coming guys\")"
   ]
  },
  {
   "cell_type": "code",
   "execution_count": null,
   "metadata": {},
   "outputs": [],
   "source": [
    "orgainising the lists:"
   ]
  },
  {
   "cell_type": "code",
   "execution_count": 19,
   "metadata": {},
   "outputs": [
    {
     "name": "stdout",
     "output_type": "stream",
     "text": [
      "{'yamaha R15', 'pulsar', 'apache', 'yamaha', 'hero honda'}\n"
     ]
    }
   ],
   "source": [
    "bikes = {'yamaha','hero honda','pulsar','yamaha R15','apache'}\n",
    "\n",
    "print(bikes)"
   ]
  },
  {
   "cell_type": "code",
   "execution_count": 20,
   "metadata": {},
   "outputs": [
    {
     "data": {
      "text/plain": [
       "5"
      ]
     },
     "execution_count": 20,
     "metadata": {},
     "output_type": "execute_result"
    }
   ],
   "source": [
    "len(bikes)"
   ]
  },
  {
   "cell_type": "code",
   "execution_count": null,
   "metadata": {},
   "outputs": [],
   "source": []
  }
 ],
 "metadata": {
  "kernelspec": {
   "display_name": "Python 3",
   "language": "python",
   "name": "python3"
  },
  "language_info": {
   "codemirror_mode": {
    "name": "ipython",
    "version": 3
   },
   "file_extension": ".py",
   "mimetype": "text/x-python",
   "name": "python",
   "nbconvert_exporter": "python",
   "pygments_lexer": "ipython3",
   "version": "3.8.5"
  }
 },
 "nbformat": 4,
 "nbformat_minor": 4
}
